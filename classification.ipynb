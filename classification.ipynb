{
 "cells": [
  {
   "cell_type": "code",
   "execution_count": 1,
   "id": "fe0b87d7-5546-4278-bb13-3f16d9b62b6c",
   "metadata": {},
   "outputs": [],
   "source": [
    "import numpy as np\n",
    "import matplotlib.pyplot as plt\n",
    "\n",
    "from sklearn import model_selection\n",
    "from sklearn import metrics\n",
    "from sklearn import tree\n",
    "\n",
    "from features import *\n",
    "from utils import *"
   ]
  },
  {
   "cell_type": "code",
   "execution_count": 2,
   "id": "69cd5ccc",
   "metadata": {},
   "outputs": [],
   "source": [
    "def plot_confusion_matrix(y_true, y_pred, labels):\n",
    "    cm = metrics.confusion_matrix(y_true, y_pred, labels=labels)\n",
    "    fig = plt.figure(figsize=(8, 8))\n",
    "    ax = fig.add_subplot(111)\n",
    "    cax = ax.matshow(cm)\n",
    "    \n",
    "    for (i, j), z in np.ndenumerate(cm):\n",
    "        ax.text(j, i, str(z), ha='center', va='center', bbox=dict(boxstyle='round', facecolor='white', edgecolor='0.3'))\n",
    "    \n",
    "    fig.colorbar(cax)\n",
    "    \n",
    "    # Define os ticks antes de definir os rótulos\n",
    "    ax.set_xticks(np.arange(len(labels)))\n",
    "    ax.set_yticks(np.arange(len(labels)))\n",
    "    \n",
    "    ax.set_xticklabels(labels)\n",
    "    ax.set_yticklabels(labels)\n",
    "    plt.xlabel('Predicted')\n",
    "    plt.ylabel('True')\n",
    "    plt.show()"
   ]
  },
  {
   "cell_type": "markdown",
   "id": "b9108abf",
   "metadata": {},
   "source": [
    "## Data Preparation"
   ]
  },
  {
   "cell_type": "code",
   "execution_count": 3,
   "id": "5a37e697",
   "metadata": {},
   "outputs": [],
   "source": [
    "# classes of machine faults in the dataset\n",
    "CLASS_OFF       = 0\n",
    "CLASS_HEALTH    = 1\n",
    "CLASS_BEARING   = 2\n",
    "CLASS_FAN       = 3\n",
    "CLASS_GEAR      = 4\n",
    "\n",
    "CLASSES = [CLASS_OFF, CLASS_HEALTH, CLASS_BEARING, CLASS_FAN, CLASS_GEAR]"
   ]
  },
  {
   "cell_type": "code",
   "execution_count": 4,
   "id": "a5d6d328",
   "metadata": {},
   "outputs": [],
   "source": [
    "# directory containing audio files\n",
    "DIR = \"data\""
   ]
  },
  {
   "cell_type": "code",
   "execution_count": 5,
   "id": "6ae6a26e",
   "metadata": {},
   "outputs": [],
   "source": [
    "# audio file per class\n",
    "FILE_OFF        = \"M1_OFF_S1.flac\"\n",
    "FILE_HEALTH     = \"M1_H_S1.flac\"\n",
    "FILE_BEARING    = \"M1_F1_S1.flac\"\n",
    "FILE_FAN        = \"M1_F2_S1.flac\"\n",
    "FILE_GEAR       = \"M1_F3_S1.flac\""
   ]
  },
  {
   "cell_type": "code",
   "execution_count": 6,
   "id": "495adf7f",
   "metadata": {},
   "outputs": [],
   "source": [
    "# read audio files\n",
    "signal_off,     sampling_frequency_off      = read_audio(f\"{DIR}/{FILE_OFF}\")\n",
    "signal_health,  sampling_frequency_health   = read_audio(f\"{DIR}/{FILE_HEALTH}\")\n",
    "signal_bearing, sampling_frequency_bearing  = read_audio(f\"{DIR}/{FILE_BEARING}\")\n",
    "signal_fan,     sampling_frequency_fan      = read_audio(f\"{DIR}/{FILE_FAN}\")\n",
    "signal_gear,    sampling_frequency_gear     = read_audio(f\"{DIR}/{FILE_GEAR}\")"
   ]
  },
  {
   "cell_type": "markdown",
   "id": "990ea23a",
   "metadata": {},
   "source": [
    "## Signal Preprocessing"
   ]
  },
  {
   "cell_type": "code",
   "execution_count": 7,
   "id": "76d46d5a",
   "metadata": {},
   "outputs": [],
   "source": [
    "# stereo to mono\n",
    "MIXING_METHOD = \"sum\" # \"average\", \"median\", \"max\", \"min\", \"sum\"\n",
    "\n",
    "signal_off     = stereo_to_mono(signal_off,     method=MIXING_METHOD)\n",
    "signal_health  = stereo_to_mono(signal_health,  method=MIXING_METHOD)\n",
    "signal_bearing = stereo_to_mono(signal_bearing, method=MIXING_METHOD)\n",
    "signal_fan     = stereo_to_mono(signal_fan,     method=MIXING_METHOD)\n",
    "signal_gear    = stereo_to_mono(signal_gear,    method=MIXING_METHOD)"
   ]
  },
  {
   "cell_type": "code",
   "execution_count": 8,
   "id": "d2d1b851",
   "metadata": {},
   "outputs": [],
   "source": [
    "# normalize audio\n",
    "NORMALIZE_DBFS = -6 # dBFS\n",
    "\n",
    "signal_off     = normalize(signal_off,     dbfs=NORMALIZE_DBFS)\n",
    "signal_health  = normalize(signal_health,  dbfs=NORMALIZE_DBFS)\n",
    "signal_bearing = normalize(signal_bearing, dbfs=NORMALIZE_DBFS)\n",
    "signal_fan     = normalize(signal_fan,     dbfs=NORMALIZE_DBFS)\n",
    "signal_gear    = normalize(signal_gear,    dbfs=NORMALIZE_DBFS)"
   ]
  },
  {
   "cell_type": "code",
   "execution_count": 9,
   "id": "cd2e10fa",
   "metadata": {},
   "outputs": [],
   "source": [
    "# resample audio\n",
    "SAMPLING_RATE = 16000 # Hz\n",
    "\n",
    "signal_off      = resample( signal_off,\n",
    "                            input_sampling_frequency=sampling_frequency_off,\n",
    "                            output_sampling_frequency=SAMPLING_RATE)\n",
    "signal_health   = resample( signal_health,\n",
    "                            input_sampling_frequency=sampling_frequency_health,\n",
    "                            output_sampling_frequency=SAMPLING_RATE)\n",
    "signal_bearing  = resample( signal_bearing,\n",
    "                            input_sampling_frequency=sampling_frequency_bearing,\n",
    "                            output_sampling_frequency=SAMPLING_RATE)\n",
    "signal_fan      = resample( signal_fan,\n",
    "                            input_sampling_frequency=sampling_frequency_fan,\n",
    "                            output_sampling_frequency=SAMPLING_RATE)\n",
    "signal_gear     = resample( signal_gear,\n",
    "                            input_sampling_frequency=sampling_frequency_gear,\n",
    "                            output_sampling_frequency=SAMPLING_RATE)"
   ]
  },
  {
   "cell_type": "code",
   "execution_count": 10,
   "id": "a35b41fa",
   "metadata": {},
   "outputs": [],
   "source": [
    "# remove silence\n",
    "SILENCE_THRESHOLD_DBFS = -48 # dBFS\n",
    "\n",
    "signal_off      = remove_silence(signal_off,    threshold_dbfs=SILENCE_THRESHOLD_DBFS)\n",
    "signal_health   = remove_silence(signal_health, threshold_dbfs=SILENCE_THRESHOLD_DBFS)\n",
    "signal_bearing  = remove_silence(signal_bearing,threshold_dbfs=SILENCE_THRESHOLD_DBFS)\n",
    "signal_fan      = remove_silence(signal_fan,    threshold_dbfs=SILENCE_THRESHOLD_DBFS)\n",
    "signal_gear     = remove_silence(signal_gear,   threshold_dbfs=SILENCE_THRESHOLD_DBFS)"
   ]
  },
  {
   "cell_type": "code",
   "execution_count": 11,
   "id": "8f436e51",
   "metadata": {},
   "outputs": [],
   "source": [
    "# segment audio\n",
    "WINDOW_DURATION     = 500 # ms\n",
    "OVERLAP_DURATION    = 100 # ms\n",
    "\n",
    "segments_off     = segment_signal(  signal_off,\n",
    "                                    sampling_frequency=SAMPLING_RATE,\n",
    "                                    segment_duration=WINDOW_DURATION,\n",
    "                                    overlap_duration=OVERLAP_DURATION)\n",
    "segments_health  = segment_signal(  signal_health,\n",
    "                                    sampling_frequency=SAMPLING_RATE,\n",
    "                                    segment_duration=WINDOW_DURATION,\n",
    "                                    overlap_duration=OVERLAP_DURATION)\n",
    "segments_bearing = segment_signal(  signal_bearing,\n",
    "                                    sampling_frequency=SAMPLING_RATE,\n",
    "                                    segment_duration=WINDOW_DURATION,\n",
    "                                    overlap_duration=OVERLAP_DURATION)\n",
    "segments_fan     = segment_signal(  signal_fan,\n",
    "                                    sampling_frequency=SAMPLING_RATE,\n",
    "                                    segment_duration=WINDOW_DURATION,\n",
    "                                    overlap_duration=OVERLAP_DURATION)\n",
    "segments_gear    = segment_signal(  signal_gear,\n",
    "                                    sampling_frequency=SAMPLING_RATE,\n",
    "                                    segment_duration=WINDOW_DURATION,\n",
    "                                    overlap_duration=OVERLAP_DURATION)"
   ]
  },
  {
   "cell_type": "markdown",
   "id": "3dd9e1c4",
   "metadata": {},
   "source": [
    "## Machine Learning"
   ]
  },
  {
   "cell_type": "code",
   "execution_count": 12,
   "id": "53e5b38f",
   "metadata": {},
   "outputs": [],
   "source": [
    "# feature extraction\n",
    "FEATURES_LST = [\"mean\",\n",
    "                \"median\",\n",
    "                \"variance\",\n",
    "                \"standard_deviation\",\n",
    "                \"skewness\",\n",
    "                \"kurtosis\",\n",
    "                \"root_mean_square\", \n",
    "                \"zero_crossing_rate\"\n",
    "                ]\n",
    "\n",
    "features_off        = get_features(segments_off,        features=FEATURES_LST)\n",
    "features_health     = get_features(segments_health,     features=FEATURES_LST)\n",
    "features_bearing    = get_features(segments_bearing,    features=FEATURES_LST)\n",
    "features_fan        = get_features(segments_fan,        features=FEATURES_LST)\n",
    "features_gear       = get_features(segments_gear,       features=FEATURES_LST)"
   ]
  },
  {
   "cell_type": "code",
   "execution_count": 13,
   "id": "f2169931",
   "metadata": {},
   "outputs": [],
   "source": [
    "# feature matrix creation\n",
    "X = np.vstack(( features_off,\n",
    "                features_health,\n",
    "                features_bearing,\n",
    "                features_fan,\n",
    "                features_gear))\n",
    "\n",
    "# labels vector creation\n",
    "y = np.concatenate((np.zeros(len(features_off)),\n",
    "                    np.ones(len(features_health)),\n",
    "                    np.full(len(features_bearing), 2),\n",
    "                    np.full(len(features_fan), 3),\n",
    "                    np.full(len(features_gear), 4)))"
   ]
  },
  {
   "cell_type": "code",
   "execution_count": 14,
   "id": "f9220a06",
   "metadata": {},
   "outputs": [],
   "source": [
    "# splitting the data into training and test sets\n",
    "TEST_SIZE = 0.20\n",
    "RANDOM_STATE = 42\n",
    "\n",
    "X_train, X_test, y_train, y_test = model_selection.train_test_split(X, y, test_size=TEST_SIZE, random_state=RANDOM_STATE)"
   ]
  },
  {
   "cell_type": "code",
   "execution_count": 15,
   "id": "f2ca27c6",
   "metadata": {},
   "outputs": [
    {
     "name": "stdout",
     "output_type": "stream",
     "text": [
      "Tree Max Depth: 6\n",
      "Tree Leaves:    8\n",
      "--------------\n",
      "Acc per fold: ['1.0000', '0.9903', '0.9903', '0.9903', '0.9902']\n",
      "Mean accuracy: 0.9922\n"
     ]
    }
   ],
   "source": [
    "# fitting the decision tree classifier\n",
    "clf = tree.DecisionTreeClassifier()\n",
    "skf = model_selection.StratifiedKFold(n_splits=5, shuffle=True)\n",
    "fdtree_cv_scores = model_selection.cross_val_score(clf, X_train, y_train, cv=skf)\n",
    "\n",
    "# fitting the decision tree classifier\n",
    "trained_model = clf.fit(X_train, y_train)\n",
    "y_pred = trained_model.predict(X_test)\n",
    "\n",
    "# tree params\n",
    "print(f\"Tree Max Depth: {trained_model.tree_.max_depth}\")\n",
    "print(f\"Tree Leaves:    {trained_model.tree_.n_leaves}\")\n",
    "print(f\"--------------\")\n",
    "\n",
    "# cross-validation results\n",
    "print(f\"Acc per fold: {[f'{s:.4f}' for s in fdtree_cv_scores]}\")\n",
    "print(f\"Mean accuracy: {fdtree_cv_scores.mean():.4f}\")"
   ]
  },
  {
   "cell_type": "code",
   "execution_count": 16,
   "id": "227f7f95",
   "metadata": {},
   "outputs": [
    {
     "name": "stdout",
     "output_type": "stream",
     "text": [
      "Classification report:\n",
      "              precision    recall  f1-score   support\n",
      "\n",
      "         0.0       0.96      1.00      0.98        24\n",
      "         1.0       1.00      1.00      1.00        31\n",
      "         2.0       1.00      0.96      0.98        24\n",
      "         3.0       1.00      1.00      1.00        18\n",
      "         4.0       1.00      1.00      1.00        32\n",
      "\n",
      "    accuracy                           0.99       129\n",
      "   macro avg       0.99      0.99      0.99       129\n",
      "weighted avg       0.99      0.99      0.99       129\n",
      "\n",
      "--------------\n",
      "Feature importances:\n",
      "mean: 0.1897\n",
      "median: 0.0000\n",
      "variance: 0.5434\n",
      "standard_deviation: 0.0000\n",
      "skewness: 0.0042\n",
      "kurtosis: 0.2339\n",
      "root_mean_square: 0.0287\n",
      "zero_crossing_rate: 0.0000\n",
      "--------------\n"
     ]
    },
    {
     "data": {
      "image/png": "[encoded data removed]",
      "text/plain": [
       "<Figure size 800x800 with 2 Axes>"
      ]
     },
     "metadata": {},
     "output_type": "display_data"
    }
   ],
   "source": [
    "# printing classification report\n",
    "print(\"Classification report:\")\n",
    "print(metrics.classification_report(y_true=y_test, y_pred=y_pred))\n",
    "print(f\"--------------\")\n",
    "\n",
    "# printing feature importances\n",
    "print(\"Feature importances:\")\n",
    "for i, feature in enumerate(FEATURES_LST):\n",
    "    print(f\"{feature}: {clf.feature_importances_[i]:.4f}\")\n",
    "print(f\"--------------\")\n",
    "\n",
    "# plotting confusion matrix\n",
    "plot_confusion_matrix(y_true=y_test, y_pred=y_pred, labels=list(set(CLASSES)))"
   ]
  }
 ],
 "metadata": {
  "kernelspec": {
   "display_name": "Python 3 (ipykernel)",
   "language": "python",
   "name": "python3"
  },
  "language_info": {
   "codemirror_mode": {
    "name": "ipython",
    "version": 3
   },
   "file_extension": ".py",
   "mimetype": "text/x-python",
   "name": "python",
   "nbconvert_exporter": "python",
   "pygments_lexer": "ipython3",
   "version": "3.12.2"
  }
 },
 "nbformat": 4,
 "nbformat_minor": 5
}
